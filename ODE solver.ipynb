{
 "cells": [
  {
   "cell_type": "code",
   "execution_count": 40,
   "id": "18b76a2d",
   "metadata": {},
   "outputs": [
    {
     "data": {
      "image/png": "[encoded data removed]",
      "text/latex": [
       "$\\displaystyle E a^{4} \\left(1 - \\frac{x_{1}}{2 L}\\right)^{3} \\frac{d^{2}}{d x_{1}^{2}} u_{2}{\\left(x_{1} \\right)} - \\frac{4 L p_{0}}{9}$"
      ],
      "text/plain": [
       "              3   2                  \n",
       "   4 ⎛     x₁⎞   d             4⋅L⋅p₀\n",
       "E⋅a ⋅⎜1 - ───⎟ ⋅────(u₂(x₁)) - ──────\n",
       "     ⎝    2⋅L⎠     2             9   \n",
       "                dx₁                  "
      ]
     },
     "metadata": {},
     "output_type": "display_data"
    },
    {
     "data": {
      "image/png": "[encoded data removed]",
      "text/latex": [
       "$\\displaystyle u_{2}{\\left(x_{1} \\right)} = \\frac{E a^{4} \\left(C_{1} + C_{2} x_{1}\\right) \\left(4 L^{2} - 4 L x_{1} + x_{1}^{2}\\right) + \\frac{16 L^{4} p_{0} \\cdot \\left(2 L - x_{1}\\right)}{9}}{E a^{4} \\cdot \\left(4 L^{2} - 4 L x_{1} + x_{1}^{2}\\right)}$"
      ],
      "text/plain": [
       "                                                       4              \n",
       "            4              ⎛   2              2⎞   16⋅L ⋅p₀⋅(2⋅L - x₁)\n",
       "         E⋅a ⋅(C₁ + C₂⋅x₁)⋅⎝4⋅L  - 4⋅L⋅x₁ + x₁ ⎠ + ───────────────────\n",
       "                                                            9         \n",
       "u₂(x₁) = ─────────────────────────────────────────────────────────────\n",
       "                              4 ⎛   2              2⎞                 \n",
       "                           E⋅a ⋅⎝4⋅L  - 4⋅L⋅x₁ + x₁ ⎠                 "
      ]
     },
     "execution_count": 40,
     "metadata": {},
     "output_type": "execute_result"
    }
   ],
   "source": [
    "from sympy.interactive import printing\n",
    "printing.init_printing(use_latex=True)\n",
    "from sympy import*\n",
    "import sympy as sp\n",
    "\n",
    "x_1 = sp.Symbol('x_1')\n",
    "a = sp.Symbol('a')\n",
    "L = sp.Symbol('L')\n",
    "E = sp.Symbol('E')\n",
    "p_0 = sp.Symbol('p_0')\n",
    "\n",
    "f = sp.Function('u_2')(x_1)\n",
    "\n",
    "H33_c = E*a**4 * (1 - (x_1/(2*L)))**3\n",
    "\n",
    "# Moment equation.\n",
    "diff_eqn = H33_c * f.diff(x_1, 2) - p_0*4*L/9\n",
    "display(diff_eqn)\n",
    "\n",
    "dsolve(diff_eqn)"
   ]
  }
 ],
 "metadata": {
  "kernelspec": {
   "display_name": "Python 3 (ipykernel)",
   "language": "python",
   "name": "python3"
  },
  "language_info": {
   "codemirror_mode": {
    "name": "ipython",
    "version": 3
   },
   "file_extension": ".py",
   "mimetype": "text/x-python",
   "name": "python",
   "nbconvert_exporter": "python",
   "pygments_lexer": "ipython3",
   "version": "3.11.4"
  }
 },
 "nbformat": 4,
 "nbformat_minor": 5
}
