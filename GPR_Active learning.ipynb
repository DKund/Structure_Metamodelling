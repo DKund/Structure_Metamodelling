{
 "cells": [
  {
   "cell_type": "markdown",
   "id": "e6a48bcd-7f3c-40f5-a59c-6e4ec8a9a953",
   "metadata": {},
   "source": [
    "- types of beam and solved examples\n",
    "- types of elemets in ABAQUS\n",
    "- types of bridge design and solved examples"
   ]
  },
  {
   "cell_type": "code",
   "execution_count": null,
   "id": "c1446503-57c1-4e5f-982a-4de5baf7c456",
   "metadata": {},
   "outputs": [],
   "source": []
  }
 ],
 "metadata": {
  "kernelspec": {
   "display_name": "Python 3 (ipykernel)",
   "language": "python",
   "name": "python3"
  },
  "language_info": {
   "codemirror_mode": {
    "name": "ipython",
    "version": 3
   },
   "file_extension": ".py",
   "mimetype": "text/x-python",
   "name": "python",
   "nbconvert_exporter": "python",
   "pygments_lexer": "ipython3",
   "version": "3.13.0"
  }
 },
 "nbformat": 4,
 "nbformat_minor": 5
}
