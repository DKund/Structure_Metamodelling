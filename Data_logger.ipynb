{
 "cells": [
  {
   "cell_type": "code",
   "execution_count": 3,
   "metadata": {},
   "outputs": [
    {
     "name": "stderr",
     "output_type": "stream",
     "text": [
      "Exception in Tkinter callback\n",
      "Traceback (most recent call last):\n",
      "  File \"c:\\Users\\Beastmode\\AppData\\Local\\Programs\\Python\\Python311\\Lib\\tkinter\\__init__.py\", line 1948, in __call__\n",
      "    return self.func(*args)\n",
      "           ^^^^^^^^^^^^^^^^\n",
      "  File \"C:\\Users\\Beastmode\\AppData\\Local\\Temp\\ipykernel_10012\\2189682178.py\", line 22, in start_logging\n",
      "    threading.Thread(target=main, args=(\n",
      "                            ^^^^\n",
      "NameError: name 'main' is not defined\n"
     ]
    }
   ],
   "source": [
    "import tkinter as tk\n",
    "from tkinter import ttk, filedialog\n",
    "import threading\n",
    "\n",
    "def select_file():\n",
    "    filename = filedialog.asksaveasfilename(defaultextension=\".csv\",\n",
    "                                            filetypes=[(\"CSV files\", \"*.csv\"), (\"All files\", \"*.*\")])\n",
    "    if filename:\n",
    "        output_entry.delete(0, tk.END)\n",
    "        output_entry.insert(0, filename)\n",
    "\n",
    "def start_logging():\n",
    "    # Retrieve user inputs\n",
    "    load_port = load_port_var.get()\n",
    "    deflection_port = deflection_port_var.get()\n",
    "    baud_rate = int(baud_rate_var.get())\n",
    "    duration = float(duration_var.get())\n",
    "    output_filename = output_entry.get()\n",
    "    sampling_interval = float(sampling_interval_var.get())\n",
    "\n",
    "    # Start logging in a separate thread to keep the GUI responsive\n",
    "    threading.Thread(target=main, args=(\n",
    "        load_port, deflection_port, baud_rate, duration, output_filename, sampling_interval\n",
    "    ), daemon=True).start()\n",
    "\n",
    "# Create the main window\n",
    "root = tk.Tk()\n",
    "root.title(\"Vibration Data Logger\")\n",
    "\n",
    "# Create and place widgets\n",
    "ttk.Label(root, text=\"Load Sensor Port:\").grid(column=0, row=0, sticky=tk.W, padx=5, pady=5)\n",
    "load_port_var = tk.StringVar()\n",
    "ttk.Entry(root, textvariable=load_port_var).grid(column=1, row=0, padx=5, pady=5)\n",
    "\n",
    "ttk.Label(root, text=\"Deflection Sensor Port:\").grid(column=0, row=1, sticky=tk.W, padx=5, pady=5)\n",
    "deflection_port_var = tk.StringVar()\n",
    "ttk.Entry(root, textvariable=deflection_port_var).grid(column=1, row=1, padx=5, pady=5)\n",
    "\n",
    "ttk.Label(root, text=\"Baud Rate:\").grid(column=0, row=2, sticky=tk.W, padx=5, pady=5)\n",
    "baud_rate_var = tk.StringVar(value=\"9600\")\n",
    "ttk.Entry(root, textvariable=baud_rate_var).grid(column=1, row=2, padx=5, pady=5)\n",
    "\n",
    "ttk.Label(root, text=\"Duration (s):\").grid(column=0, row=3, sticky=tk.W, padx=5, pady=5)\n",
    "duration_var = tk.StringVar(value=\"60\")\n",
    "ttk.Entry(root, textvariable=duration_var).grid(column=1, row=3, padx=5, pady=5)\n",
    "\n",
    "ttk.Label(root, text=\"Output File:\").grid(column=0, row=4, sticky=tk.W, padx=5, pady=5)\n",
    "output_entry = ttk.Entry(root)\n",
    "output_entry.grid(column=1, row=4, padx=5, pady=5)\n",
    "ttk.Button(root, text=\"Browse\", command=select_file).grid(column=2, row=4, padx=5, pady=5)\n",
    "\n",
    "ttk.Label(root, text=\"Sampling Interval (s):\").grid(column=0, row=5, sticky=tk.W, padx=5, pady=5)\n",
    "sampling_interval_var = tk.StringVar(value=\"0.02\")\n",
    "ttk.Entry(root, textvariable=sampling_interval_var).grid(column=1, row=5, padx=5, pady=5)\n",
    "\n",
    "ttk.Button(root, text=\"Start Logging\", command=start_logging).grid(column=0, row=6, columnspan=3, pady=10)\n",
    "\n",
    "# Start the GUI event loop\n",
    "root.mainloop()\n"
   ]
  },
  {
   "cell_type": "code",
   "execution_count": null,
   "metadata": {},
   "outputs": [],
   "source": []
  }
 ],
 "metadata": {
  "kernelspec": {
   "display_name": "Python 3",
   "language": "python",
   "name": "python3"
  },
  "language_info": {
   "codemirror_mode": {
    "name": "ipython",
    "version": 3
   },
   "file_extension": ".py",
   "mimetype": "text/x-python",
   "name": "python",
   "nbconvert_exporter": "python",
   "pygments_lexer": "ipython3",
   "version": "3.11.2"
  }
 },
 "nbformat": 4,
 "nbformat_minor": 2
}
