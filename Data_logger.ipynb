{
 "cells": [
  {
   "cell_type": "code",
   "execution_count": 609,
   "metadata": {},
   "outputs": [],
   "source": [
    "import serial\n",
    "import time\n",
    "import csv\n",
    "import sys\n",
    "import random\n",
    "import numpy as np\n",
    "\n",
    "import matplotlib.pyplot as plt\n",
    "import matplotlib.animation as animation\n",
    "from collections import deque\n",
    "import threading\n",
    "import pandas as pd"
   ]
  },
  {
   "cell_type": "code",
   "execution_count": 610,
   "metadata": {},
   "outputs": [],
   "source": [
    "start_time = []\n",
    "start_time.append(time.time())\n",
    "duration = 10\n",
    "\n",
    "time_val_list = []\n",
    "load_val_list = []\n",
    "deflection_val_list = []\n",
    "\n",
    "sub_deflection_list = []\n",
    "\n",
    "final_time_list = []\n",
    "final_load_list = []\n",
    "final_deflection_list = []\n",
    "\n",
    "synthetic_time_list = []\n",
    "\n",
    "increment_val = []"
   ]
  },
  {
   "cell_type": "code",
   "execution_count": 611,
   "metadata": {},
   "outputs": [],
   "source": [
    "def load_deflection_val():\n",
    "    load = np.random.normal(0, 100)\n",
    "    deflection = np.random.normal(0, 10)\n",
    "    \n",
    "    elapsed_time = time.time()\n",
    "    time.sleep(0.005)\n",
    "\n",
    "    deflection_val_list.append(deflection)\n",
    "    load_val_list.append(load)\n",
    "    time_val_list.append(elapsed_time)\n",
    "    print('start time:', start_time[0])\n",
    "    print('current time:', time.time())\n",
    "    print('elapsed time:',elapsed_time)"
   ]
  },
  {
   "cell_type": "code",
   "execution_count": 612,
   "metadata": {},
   "outputs": [
    {
     "name": "stdout",
     "output_type": "stream",
     "text": [
      "start time: 1737409504.2688613\n",
      "current time: 1737409504.2819388\n",
      "elapsed time: 1737409504.2819388\n",
      "start time: 1737409504.2688613\n",
      "current time: 1737409504.282937\n",
      "elapsed time: 1737409504.2819388\n",
      "[1737409504.2819388, 1737409504.2819388]\n",
      "[]\n",
      "0\n",
      "2\n"
     ]
    }
   ],
   "source": [
    "def synthetic_sensor_data():\n",
    "    refinement = 10\n",
    "    if len(sub_deflection_list) == refinement:\n",
    "        sub_deflection_list.clear()\n",
    "        load_deflection_val()\n",
    "    else:\n",
    "        if len(sub_deflection_list) < refinement:\n",
    "            if len(deflection_val_list) == 0:\n",
    "                i = 1\n",
    "                while True:\n",
    "                    load_deflection_val()\n",
    "                    if i%2 == 0:\n",
    "                        break\n",
    "                    i = i+1\n",
    "            else:\n",
    "                x2 = deflection_val_list[-1]\n",
    "                l2 = load_val_list[-1]\n",
    "                t2 = time_val_list[-1]\n",
    "\n",
    "                x1 = deflection_val_list[-2]\n",
    "                l1 = load_val_list[-2]\n",
    "                t1 = time_val_list[-2]\n",
    "\n",
    "                for i in range(0, refinement + 1, 1):\n",
    "                    sub_deflection_val = x1 + ((x2 - x1) / refinement) * (len(sub_deflection_list)-1)\n",
    "                    sub_deflection_list.append(sub_deflection_val)\n",
    "                    final_deflection_list.append(sub_deflection_val)\n",
    "\n",
    "                    sub_load_val = l1 + ((l2 - l1) / refinement) * (len(sub_deflection_list))\n",
    "                    final_load_list.append(round((sub_load_val), 2))\n",
    "\n",
    "                    sub_time_val = t1 + ((t2 - t1) / refinement) * (len(sub_deflection_list)-1)\n",
    "                    final_time_list.append(sub_time_val)\n",
    "                    return\n",
    "\n",
    "synthetic_sensor_data()\n",
    "print(time_val_list)\n",
    "print(final_time_list)\n",
    "print(len(final_time_list))\n",
    "print(len(time_val_list))"
   ]
  },
  {
   "cell_type": "code",
   "execution_count": 630,
   "metadata": {},
   "outputs": [
    {
     "name": "stdout",
     "output_type": "stream",
     "text": [
      "1737409655.2288306\n",
      "1737409655.2288306\n"
     ]
    }
   ],
   "source": [
    "for i in range(0,2,1):\n",
    "    print(time.time())"
   ]
  },
  {
   "cell_type": "code",
   "execution_count": null,
   "metadata": {},
   "outputs": [],
   "source": []
  }
 ],
 "metadata": {
  "kernelspec": {
   "display_name": "Python 3",
   "language": "python",
   "name": "python3"
  },
  "language_info": {
   "codemirror_mode": {
    "name": "ipython",
    "version": 3
   },
   "file_extension": ".py",
   "mimetype": "text/x-python",
   "name": "python",
   "nbconvert_exporter": "python",
   "pygments_lexer": "ipython3",
   "version": "3.11.2"
  }
 },
 "nbformat": 4,
 "nbformat_minor": 2
}
