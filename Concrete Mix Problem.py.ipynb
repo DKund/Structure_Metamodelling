{
 "cells": [
  {
   "cell_type": "code",
   "execution_count": 10,
   "id": "86b95169-e0d1-43e6-87de-28ec0cf93467",
   "metadata": {},
   "outputs": [],
   "source": [
    "# !pip install deap --use-pep517"
   ]
  },
  {
   "cell_type": "markdown",
   "id": "3462e3a6-6441-4e4b-b1df-e91e56da82dd",
   "metadata": {},
   "source": [
    "# **Concrete mix Compressive Strength estimation based on Regression model**"
   ]
  },
  {
   "cell_type": "code",
   "execution_count": 3,
   "id": "0319c804-6267-4f58-b752-4a46d7288dca",
   "metadata": {},
   "outputs": [],
   "source": [
    "import numpy as np\n",
    "import pandas as pd\n",
    "import matplotlib.pyplot as plt\n",
    "import seaborn as sns; sns.set()\n",
    "import random\n",
    "import math\n",
    "import copy\n",
    "\n",
    "from sklearn.svm import SVR\n",
    "from sklearn.linear_model import ElasticNet\n",
    "from sklearn.preprocessing import StandardScaler\n",
    "from sklearn.model_selection import train_test_split, GridSearchCV\n",
    "from sklearn.metrics import mean_squared_error, r2_score\n",
    "from statsmodels.stats.outliers_influence import variance_inflation_factor\n",
    "from sklearn.ensemble import RandomForestRegressor\n",
    "from scipy.optimize import minimize\n",
    "from deap import base, creator, tools, algorithms\n",
    "\n",
    "import warnings\n",
    "warnings.filterwarnings('ignore')"
   ]
  },
  {
   "cell_type": "code",
   "execution_count": 4,
   "id": "7d57e698-f30a-4dcf-abb3-8e8ba3bee860",
   "metadata": {},
   "outputs": [
    {
     "name": "stdout",
     "output_type": "stream",
     "text": [
      "<class 'pandas.core.frame.DataFrame'>\n",
      "RangeIndex: 1030 entries, 0 to 1029\n",
      "Data columns (total 9 columns):\n",
      " #   Column                     Non-Null Count  Dtype  \n",
      "---  ------                     --------------  -----  \n",
      " 0   Cement                     1030 non-null   float64\n",
      " 1   BlastFurnaceSlag           1030 non-null   float64\n",
      " 2   FlyAshComponent            1030 non-null   float64\n",
      " 3   WaterComponent             1030 non-null   float64\n",
      " 4   SuperplasticizerComponent  1030 non-null   float64\n",
      " 5   CoarseAggregateComponent   1030 non-null   float64\n",
      " 6   FineAggregateComponent     1030 non-null   float64\n",
      " 7   AgeInDays                  1030 non-null   int64  \n",
      " 8   Strength                   1030 non-null   float64\n",
      "dtypes: float64(8), int64(1)\n",
      "memory usage: 72.6 KB\n"
     ]
    }
   ],
   "source": [
    "file_path = \"Concrete_Strength_Data.csv\"\n",
    "concrete_data = pd.read_csv(file_path)\n",
    "concrete_data.info()"
   ]
  },
  {
   "cell_type": "markdown",
   "id": "93f6745e-ea4a-41c0-b854-35e1d6103616",
   "metadata": {},
   "source": [
    "#### **Identify Missing Values and Duplicate Rows**"
   ]
  },
  {
   "cell_type": "code",
   "execution_count": 5,
   "id": "9e8199c5-a438-433e-89da-fcb9e7956acf",
   "metadata": {},
   "outputs": [
    {
     "name": "stdout",
     "output_type": "stream",
     "text": [
      "Number of missing values in each column:\n",
      "Cement                       0\n",
      "BlastFurnaceSlag             0\n",
      "FlyAshComponent              0\n",
      "WaterComponent               0\n",
      "SuperplasticizerComponent    0\n",
      "CoarseAggregateComponent     0\n",
      "FineAggregateComponent       0\n",
      "AgeInDays                    0\n",
      "Strength                     0\n",
      "dtype: int64\n",
      "\n",
      "Number of duplicate rows: 25\n",
      "Removed 25 duplicate rows from the dataset\n",
      "            Cement  BlastFurnaceSlag  FlyAshComponent  WaterComponent  \\\n",
      "count  1005.000000       1005.000000      1005.000000     1005.000000   \n",
      "mean    278.631343         72.043483        55.536318      182.075323   \n",
      "std     104.344261         86.170807        64.207969       21.339334   \n",
      "min     102.000000          0.000000         0.000000      121.800000   \n",
      "25%     190.700000          0.000000         0.000000      166.600000   \n",
      "50%     265.000000         20.000000         0.000000      185.700000   \n",
      "75%     349.000000        142.500000       118.300000      192.900000   \n",
      "max     540.000000        359.400000       200.100000      247.000000   \n",
      "\n",
      "       SuperplasticizerComponent  CoarseAggregateComponent  \\\n",
      "count                1005.000000               1005.000000   \n",
      "mean                    6.033234                974.376816   \n",
      "std                     5.919967                 77.579667   \n",
      "min                     0.000000                801.000000   \n",
      "25%                     0.000000                932.000000   \n",
      "50%                     6.100000                968.000000   \n",
      "75%                    10.000000               1031.000000   \n",
      "max                    32.200000               1145.000000   \n",
      "\n",
      "       FineAggregateComponent    AgeInDays     Strength  \n",
      "count             1005.000000  1005.000000  1005.000000  \n",
      "mean               772.688259    45.856716    35.250378  \n",
      "std                 80.340435    63.734692    16.284815  \n",
      "min                594.000000     1.000000     2.330000  \n",
      "25%                724.300000     7.000000    23.520000  \n",
      "50%                780.000000    28.000000    33.800000  \n",
      "75%                822.200000    56.000000    44.870000  \n",
      "max                992.600000   365.000000    82.600000  \n"
     ]
    }
   ],
   "source": [
    "print(f\"Number of missing values in each column:\")\n",
    "print(concrete_data.isnull().sum())\n",
    "\n",
    "n_duplicate_rows = concrete_data.duplicated().sum()\n",
    "print(f\"\\nNumber of duplicate rows: {n_duplicate_rows}\")\n",
    "\n",
    "if n_duplicate_rows > 0:\n",
    "    concrete_data = concrete_data.drop_duplicates()\n",
    "    print(f\"Removed {n_duplicate_rows} duplicate rows from the dataset\")\n",
    "\n",
    "print(concrete_data.describe())"
   ]
  },
  {
   "cell_type": "code",
   "execution_count": 6,
   "id": "91630317-ef83-440b-842d-e84fad3b217b",
   "metadata": {},
   "outputs": [
    {
     "name": "stdout",
     "output_type": "stream",
     "text": [
      "<class 'pandas.core.frame.DataFrame'>\n",
      "Index: 1005 entries, 0 to 1029\n",
      "Data columns (total 8 columns):\n",
      " #   Column                     Non-Null Count  Dtype  \n",
      "---  ------                     --------------  -----  \n",
      " 0   Cement                     1005 non-null   float64\n",
      " 1   BlastFurnaceSlag           1005 non-null   float64\n",
      " 2   FlyAshComponent            1005 non-null   float64\n",
      " 3   WaterComponent             1005 non-null   float64\n",
      " 4   SuperplasticizerComponent  1005 non-null   float64\n",
      " 5   CoarseAggregateComponent   1005 non-null   float64\n",
      " 6   FineAggregateComponent     1005 non-null   float64\n",
      " 7   AgeInDays                  1005 non-null   int64  \n",
      "dtypes: float64(7), int64(1)\n",
      "memory usage: 70.7 KB\n"
     ]
    }
   ],
   "source": [
    "y_initial = concrete_data['Strength']\n",
    "y_initial = np.array(y_initial)\n",
    "concrete_data = concrete_data.drop(columns=['Strength'])\n",
    "\n",
    "x_initial = concrete_data.copy()\n",
    "concrete_data.info()"
   ]
  },
  {
   "cell_type": "code",
   "execution_count": 7,
   "id": "082be93a-b4cb-42e0-a9a0-38a984d98292",
   "metadata": {},
   "outputs": [
    {
     "name": "stdout",
     "output_type": "stream",
     "text": [
      "            Cement  BlastFurnaceSlag  FlyAshComponent  WaterComponent  \\\n",
      "count  1005.000000       1005.000000      1005.000000     1005.000000   \n",
      "mean    278.631343         72.043483        55.536318      182.075323   \n",
      "std     104.344261         86.170807        64.207969       21.339334   \n",
      "min     102.000000          0.000000         0.000000      121.800000   \n",
      "25%     190.700000          0.000000         0.000000      166.600000   \n",
      "50%     265.000000         20.000000         0.000000      185.700000   \n",
      "75%     349.000000        142.500000       118.300000      192.900000   \n",
      "max     540.000000        359.400000       200.100000      247.000000   \n",
      "\n",
      "       SuperplasticizerComponent  CoarseAggregateComponent  \\\n",
      "count                1005.000000               1005.000000   \n",
      "mean                    6.033234                974.376816   \n",
      "std                     5.919967                 77.579667   \n",
      "min                     0.000000                801.000000   \n",
      "25%                     0.000000                932.000000   \n",
      "50%                     6.100000                968.000000   \n",
      "75%                    10.000000               1031.000000   \n",
      "max                    32.200000               1145.000000   \n",
      "\n",
      "       FineAggregateComponent    AgeInDays  \n",
      "count             1005.000000  1005.000000  \n",
      "mean               772.688259    45.856716  \n",
      "std                 80.340435    63.734692  \n",
      "min                594.000000     1.000000  \n",
      "25%                724.300000     7.000000  \n",
      "50%                780.000000    28.000000  \n",
      "75%                822.200000    56.000000  \n",
      "max                992.600000   365.000000  \n"
     ]
    }
   ],
   "source": [
    "print(concrete_data.describe())"
   ]
  },
  {
   "cell_type": "markdown",
   "id": "082b983e-88db-4079-a385-2be57037607a",
   "metadata": {},
   "source": [
    "#### **Feature Scaling**"
   ]
  },
  {
   "cell_type": "code",
   "execution_count": 8,
   "id": "ee6ebe09-93cf-4d1c-8615-5606a3627615",
   "metadata": {},
   "outputs": [
    {
     "name": "stdout",
     "output_type": "stream",
     "text": [
      "             Cement  BlastFurnaceSlag  FlyAshComponent  WaterComponent  \\\n",
      "count  1.005000e+03      1.005000e+03     1.005000e+03    1.005000e+03   \n",
      "mean  -2.121023e-16      1.131212e-16     5.656062e-17   -8.201289e-16   \n",
      "std    1.000498e+00      1.000498e+00     1.000498e+00    1.000498e+00   \n",
      "min   -1.693618e+00     -8.364707e-01    -8.653750e-01   -2.826018e+00   \n",
      "25%   -8.431237e-01     -8.364707e-01    -8.653750e-01   -7.255629e-01   \n",
      "50%   -1.307032e-01     -6.042579e-01    -8.653750e-01    1.699435e-01   \n",
      "75%    6.747251e-01      8.180450e-01     9.779928e-01    5.075166e-01   \n",
      "max    2.506116e+00      3.336392e+00     2.252612e+00    3.044003e+00   \n",
      "\n",
      "       SuperplasticizerComponent  CoarseAggregateComponent  \\\n",
      "count               1.005000e+03              1.005000e+03   \n",
      "mean               -8.484092e-17              1.187773e-15   \n",
      "std                 1.000498e+00              1.000498e+00   \n",
      "min                -1.019640e+00             -2.235936e+00   \n",
      "25%                -1.019640e+00             -5.465081e-01   \n",
      "50%                 1.128375e-02             -8.223793e-02   \n",
      "75%                 6.703992e-01              7.302348e-01   \n",
      "max                 4.422287e+00              2.200424e+00   \n",
      "\n",
      "       FineAggregateComponent     AgeInDays  \n",
      "count            1.005000e+03  1.005000e+03  \n",
      "mean             1.307964e-16 -3.535038e-17  \n",
      "std              1.000498e+00  1.000498e+00  \n",
      "min             -2.225246e+00 -7.041542e-01  \n",
      "25%             -6.025901e-01 -6.099671e-01  \n",
      "50%              9.105479e-02 -2.803121e-01  \n",
      "75%              6.165811e-01  1.592278e-01  \n",
      "max              2.738611e+00  5.009865e+00  \n"
     ]
    }
   ],
   "source": [
    "scaler = StandardScaler()\n",
    "x_initial_scaled = scaler.fit_transform(x_initial)\n",
    "x_initial_scaled_dataframe = pd.DataFrame(x_initial_scaled, \n",
    "                                          columns = concrete_data.columns)\n",
    "# y_initial = y_initial.reshape(-1, 1)\n",
    "# y_initial_scaled = scaler.fit_transform(y_initial)\n",
    "print(x_initial_scaled_dataframe.describe())"
   ]
  },
  {
   "cell_type": "code",
   "execution_count": 9,
   "id": "edba602f-6a6a-4744-8a6b-8732922386cd",
   "metadata": {},
   "outputs": [],
   "source": [
    "val_stats = x_initial_scaled_dataframe.describe()\n",
    "val_min = val_stats.loc['min']\n",
    "val_max = val_stats.loc['max']\n",
    "bounds = []\n",
    "for i in range(0, len(val_min), 1):\n",
    "    tupple_val = (val_min[i], val_max[i])\n",
    "    bounds.append(tupple_val)"
   ]
  },
  {
   "cell_type": "markdown",
   "id": "613acde2-4b21-4f84-8bdf-03d5e6bbebb9",
   "metadata": {},
   "source": [
    "#### **Multicolliearity**\n",
    "#### **Correlation Matrix:**\n",
    "- Correlation matrix visualization where each matrix element represents **pairwise Pearson correlation coefficients between different predictors.**"
   ]
  },
  {
   "cell_type": "code",
   "execution_count": 10,
   "id": "7b7d7b70-2f8b-4f38-9edb-84a29c79a2a8",
   "metadata": {},
   "outputs": [
    {
     "data": {
      "image/png": "[encoded data removed]",
      "text/plain": [
       "<Figure size 1200x500 with 2 Axes>"
      ]
     },
     "metadata": {},
     "output_type": "display_data"
    }
   ],
   "source": [
    "correlation_matrix = x_initial_scaled_dataframe.corr()\n",
    "plt.figure(figsize = (12, 5))\n",
    "sns.heatmap(correlation_matrix, \n",
    "            annot = True, \n",
    "            cmap = 'YlGnBu', \n",
    "            fmt = '.2f')\n",
    "plt.title('Correlation Matrix of Features', \n",
    "          fontsize = 16)\n",
    "plt.show()"
   ]
  },
  {
   "cell_type": "markdown",
   "id": "7799824e-7a16-4f61-a6b7-25b576a17e69",
   "metadata": {},
   "source": [
    "#### **Variance Inflation Factor (VIF) for each predictor**"
   ]
  },
  {
   "cell_type": "code",
   "execution_count": 11,
   "id": "1108cba6-f3de-4189-aaed-cc424be1d6f3",
   "metadata": {},
   "outputs": [
    {
     "data": {
      "text/html": [
       "<div>\n",
       "<style scoped>\n",
       "    .dataframe tbody tr th:only-of-type {\n",
       "        vertical-align: middle;\n",
       "    }\n",
       "\n",
       "    .dataframe tbody tr th {\n",
       "        vertical-align: top;\n",
       "    }\n",
       "\n",
       "    .dataframe thead th {\n",
       "        text-align: right;\n",
       "    }\n",
       "</style>\n",
       "<table border=\"1\" class=\"dataframe\">\n",
       "  <thead>\n",
       "    <tr style=\"text-align: right;\">\n",
       "      <th></th>\n",
       "      <th>Features</th>\n",
       "      <th>VIF Value</th>\n",
       "    </tr>\n",
       "  </thead>\n",
       "  <tbody>\n",
       "    <tr>\n",
       "      <th>0</th>\n",
       "      <td>Cement</td>\n",
       "      <td>7.448990</td>\n",
       "    </tr>\n",
       "    <tr>\n",
       "      <th>1</th>\n",
       "      <td>BlastFurnaceSlag</td>\n",
       "      <td>7.263275</td>\n",
       "    </tr>\n",
       "    <tr>\n",
       "      <th>2</th>\n",
       "      <td>FlyAshComponent</td>\n",
       "      <td>6.084539</td>\n",
       "    </tr>\n",
       "    <tr>\n",
       "      <th>3</th>\n",
       "      <td>WaterComponent</td>\n",
       "      <td>6.838492</td>\n",
       "    </tr>\n",
       "    <tr>\n",
       "      <th>4</th>\n",
       "      <td>SuperplasticizerComponent</td>\n",
       "      <td>2.867335</td>\n",
       "    </tr>\n",
       "    <tr>\n",
       "      <th>5</th>\n",
       "      <td>CoarseAggregateComponent</td>\n",
       "      <td>4.956211</td>\n",
       "    </tr>\n",
       "    <tr>\n",
       "      <th>6</th>\n",
       "      <td>FineAggregateComponent</td>\n",
       "      <td>6.972305</td>\n",
       "    </tr>\n",
       "    <tr>\n",
       "      <th>7</th>\n",
       "      <td>AgeInDays</td>\n",
       "      <td>1.120113</td>\n",
       "    </tr>\n",
       "  </tbody>\n",
       "</table>\n",
       "</div>"
      ],
      "text/plain": [
       "                    Features  VIF Value\n",
       "0                     Cement   7.448990\n",
       "1           BlastFurnaceSlag   7.263275\n",
       "2            FlyAshComponent   6.084539\n",
       "3             WaterComponent   6.838492\n",
       "4  SuperplasticizerComponent   2.867335\n",
       "5   CoarseAggregateComponent   4.956211\n",
       "6     FineAggregateComponent   6.972305\n",
       "7                  AgeInDays   1.120113"
      ]
     },
     "execution_count": 11,
     "metadata": {},
     "output_type": "execute_result"
    }
   ],
   "source": [
    "vif_dataframe_x_initial_scaled = pd.DataFrame()\n",
    "vif_dataframe_x_initial_scaled['Features'] = x_initial_scaled_dataframe.columns\n",
    "vif_dataframe_x_initial_scaled['VIF Value'] = [variance_inflation_factor(x_initial_scaled_dataframe.values, \n",
    "                                                          i) for i in range(0, len(x_initial_scaled_dataframe.columns))]\n",
    "\n",
    "vif_dataframe_x_initial_scaled"
   ]
  },
  {
   "cell_type": "markdown",
   "id": "cd7859ae-b2c0-4d55-9360-c5d5ffdb7c0b",
   "metadata": {},
   "source": [
    "#### **Splitting dataset for model training and testing**"
   ]
  },
  {
   "cell_type": "code",
   "execution_count": 12,
   "id": "70e0724f-eb03-403d-aa02-ecc04b903e0f",
   "metadata": {},
   "outputs": [],
   "source": [
    "x_initial_scaled = np.zeros_like(concrete_data)\n",
    "x_val_list = []\n",
    "for i in range(0, len(x_initial_scaled_dataframe), 1):\n",
    "  x_val = x_initial_scaled_dataframe.iloc[i]\n",
    "  x_val_list.append(x_val)\n",
    "x_val_array = np.array(x_val_list)\n",
    "x_initial_scaled = x_val_array\n",
    "\n",
    "x_train, x_test, y_train, y_test = train_test_split(x_initial_scaled,\n",
    "                                                    y_initial,\n",
    "                                                    test_size = 0.2,\n",
    "                                                    random_state = 42)"
   ]
  },
  {
   "cell_type": "markdown",
   "id": "47090e10-8beb-4b66-b335-6379146c14b1",
   "metadata": {},
   "source": [
    "#### **Elastic Net Regression Hyperparameter Tuning employing the GridSearchCV**\n",
    "* $\\alpha$ is strength of Regularization / Penality.\n",
    "* $\\rho$ is mix ratio between **Lasso** and **Ridge**"
   ]
  },
  {
   "cell_type": "code",
   "execution_count": 13,
   "id": "4960d2fd-d24a-4ab0-bace-34620164fbef",
   "metadata": {},
   "outputs": [
    {
     "name": "stdout",
     "output_type": "stream",
     "text": [
      "Fitting 5 folds for each of 50 candidates, totalling 250 fits\n",
      "Best Parameters: {'alpha': 0.01, 'l1_ratio': 0.9}\n",
      "Best Cross-Validated R2 Score: 0.5934689673639161\n",
      "\n",
      "TEST DATA: \n",
      "R2 score of test data: 0.5798842290723278\n",
      "RMSE of test data: 11.195132468819972\n"
     ]
    }
   ],
   "source": [
    "parameter_grid = {\n",
    "    'alpha': [0.01, 0.1, 1, 10, 100],\n",
    "    'l1_ratio': [0.1, 0.2, 0.3, 0.4, 0.5, 0.6, 0.7, 0.8, 0.9, 1.0]\n",
    "}\n",
    "elastic_net_regression = ElasticNet(max_iter = 10000,\n",
    "                                   random_state = 42)\n",
    "\n",
    "grid_search = GridSearchCV(\n",
    "    estimator = elastic_net_regression,\n",
    "    param_grid = parameter_grid,\n",
    "    scoring = 'r2',\n",
    "    cv = 5,\n",
    "    n_jobs = -1,\n",
    "    verbose = 2\n",
    ")\n",
    "grid_search.fit(x_train, y_train)\n",
    "\n",
    "print(f\"Best Parameters: {grid_search.best_params_}\")\n",
    "print(f\"Best Cross-Validated R2 Score: {grid_search.best_score_}\")\n",
    "\n",
    "best_elastic_net = grid_search.best_estimator_\n",
    "y_pred = best_elastic_net.predict(x_test)\n",
    "r2_score_val = r2_score(y_test, y_pred)\n",
    "rmse = np.sqrt(mean_squared_error(y_test, y_pred))\n",
    "\n",
    "print(f\"\\nTEST DATA: \\nR2 score of test data: {r2_score_val}\")\n",
    "print(f\"RMSE of test data: {rmse}\")"
   ]
  },
  {
   "cell_type": "markdown",
   "id": "024bdf44-8ea2-4d17-944b-d83f5b5d0c98",
   "metadata": {},
   "source": [
    "#### **Support Vector Regression model construction and Hyperparameter Tuning employing the GridSearchCV**"
   ]
  },
  {
   "cell_type": "code",
   "execution_count": 14,
   "id": "869ed7ac-f88e-4d8d-9d47-2394ab030bf1",
   "metadata": {},
   "outputs": [
    {
     "name": "stdout",
     "output_type": "stream",
     "text": [
      "Fitting 5 folds for each of 96 candidates, totalling 480 fits\n",
      "Best Parameters: {'C': 100, 'epsilon': 1, 'gamma': 'auto', 'kernel': 'rbf'}\n",
      "Best Cross-Validated R2 Score: 0.8554862125148184\n",
      "\n",
      "TEST DATA: \n",
      "R2 score of test data: 0.8748947553893268\n",
      "RMSE of test data: 6.10917410873139\n"
     ]
    }
   ],
   "source": [
    "param_grid = {\n",
    "    'kernel': ['rbf'],\n",
    "    'C': [0.1, 1, 10, 100],\n",
    "    'epsilon': [0.01, .1, 0.5, 1],\n",
    "    'gamma': ['scale', 'auto', .001, .01, .1, 1]\n",
    "}\n",
    "\n",
    "grid_search = GridSearchCV(\n",
    "    estimator = SVR(),\n",
    "    param_grid = param_grid,\n",
    "    scoring = 'r2',\n",
    "    cv = 5,\n",
    "    n_jobs = -1,\n",
    "    verbose = 2\n",
    ")\n",
    "grid_search.fit(x_train, y_train)\n",
    "\n",
    "print(f\"Best Parameters: {grid_search.best_params_}\")\n",
    "print(f\"Best Cross-Validated R2 Score: {grid_search.best_score_}\")\n",
    "\n",
    "best_SVR = grid_search.best_estimator_\n",
    "y_pred = best_SVR.predict(x_test)\n",
    "r2_score_val = r2_score(y_test, y_pred)\n",
    "rmse = np.sqrt(mean_squared_error(y_test, y_pred))\n",
    "\n",
    "print(f\"\\nTEST DATA: \\nR2 score of test data: {r2_score_val}\")\n",
    "print(f\"RMSE of test data: {rmse}\")"
   ]
  },
  {
   "cell_type": "markdown",
   "id": "790a4c75-7612-40d3-affb-5188850c1a1e",
   "metadata": {},
   "source": [
    "#### **Random Forest Regression construction and Hyperparameter Tuning employing GridSearchCV**"
   ]
  },
  {
   "cell_type": "code",
   "execution_count": 15,
   "id": "360fa198-96e2-4f6e-881d-889c6b5f6683",
   "metadata": {},
   "outputs": [],
   "source": [
    "param_grid = {\n",
    "    'n_estimators': [300, 500, 700],\n",
    "    'max_depth': [None, 10, 20, 30],\n",
    "    'min_samples_split': [2, 5, 10],\n",
    "    'min_samples_leaf': [1, 2, 5],\n",
    "    'max_features': ['auto', 'sqrt', 'log2'],\n",
    "    'bootstrap': [True, False]\n",
    "}\n",
    "\n",
    "grid_search = GridSearchCV(\n",
    "    estimator = RandomForestRegressor(random_state = 42),\n",
    "    param_grid = param_grid,\n",
    "    scoring = 'r2',\n",
    "    verbose = 2,\n",
    "    n_jobs = -1,\n",
    "    cv = 5\n",
    ")\n",
    "\n",
    "# grid_search.fit(x_train, y_train)"
   ]
  },
  {
   "cell_type": "code",
   "execution_count": 16,
   "id": "a1725f21-a2d3-480a-9386-fbe2ef78bfa3",
   "metadata": {},
   "outputs": [
    {
     "name": "stdout",
     "output_type": "stream",
     "text": [
      "TEST DATA: \n",
      "R² score of test data: 0.9199204895096864\n",
      "RMSE of test data: 4.887710213255583\n"
     ]
    }
   ],
   "source": [
    "# print(f\"Best Parameters: {grid_search.best_params_}\")\n",
    "# print(f\"Best Cross-Validated R2 Score: {grid_search.best_score_}\")\n",
    "# best_random_forest = grid_search.best_estimator_\n",
    "\n",
    "best_random_forest = RandomForestRegressor(bootstrap = False, \n",
    "                                           max_depth = 20, \n",
    "                                           max_features = 'log2', \n",
    "                                           min_samples_leaf = 1, \n",
    "                                           min_samples_split = 2,\n",
    "                                           n_estimators = 500,\n",
    "                                          random_state = 42)\n",
    "best_random_forest.fit(x_train, y_train)\n",
    "y_pred = best_random_forest.predict(x_test)\n",
    "r2_score_val = r2_score(y_test, y_pred)\n",
    "rmse = np.sqrt(mean_squared_error(y_test, y_pred))\n",
    "\n",
    "print(f\"TEST DATA: \\nR\\u00B2 score of test data: {r2_score_val}\")\n",
    "print(f\"RMSE of test data: {rmse}\")"
   ]
  },
  {
   "cell_type": "code",
   "execution_count": 17,
   "id": "d00a18ef-dbb5-489a-9288-2cb0c70a4573",
   "metadata": {},
   "outputs": [
    {
     "name": "stdout",
     "output_type": "stream",
     "text": [
      "Feature importance based on Tree Splits:\n",
      "                    Features  Importance\n",
      "7                  AgeInDays    0.353821\n",
      "0                     Cement    0.250090\n",
      "3             WaterComponent    0.110501\n",
      "4  SuperplasticizerComponent    0.072498\n",
      "1           BlastFurnaceSlag    0.062982\n",
      "6     FineAggregateComponent    0.059697\n",
      "5   CoarseAggregateComponent    0.045310\n",
      "2            FlyAshComponent    0.045101\n"
     ]
    },
    {
     "data": {
      "image/png": "[encoded data removed]",
      "text/plain": [
       "<Figure size 1000x500 with 1 Axes>"
      ]
     },
     "metadata": {},
     "output_type": "display_data"
    }
   ],
   "source": [
    "feature_importance = best_random_forest.feature_importances_\n",
    "feature_importance_df = pd.DataFrame({\n",
    "    'Features': x_initial_scaled_dataframe.columns,\n",
    "    'Importance': feature_importance\n",
    "})\n",
    "\n",
    "feature_importance_df = feature_importance_df.sort_values(by = 'Importance',\n",
    "                                                         ascending = False)\n",
    "print(f\"Feature importance based on Tree Splits:\")\n",
    "print(feature_importance_df)\n",
    "\n",
    "plt.figure(figsize = (10, 5))\n",
    "sns.barplot(x='Importance', \n",
    "            y = 'Features',\n",
    "            data = feature_importance_df,\n",
    "            palette = 'viridis')\n",
    "plt.title('Feature Importance based on Random Forest')\n",
    "plt.xlabel('Importance Magnitude')\n",
    "plt.ylabel('Features')\n",
    "plt.show()"
   ]
  },
  {
   "cell_type": "markdown",
   "id": "8d5e5116-48e2-4c77-b46b-def5428c9963",
   "metadata": {},
   "source": [
    "# **Inverse Problem: Concrete Mix for Target Strength and Optimal Cost**\n",
    "### Genetic Algorithm (GA) as a Search Algorithm"
   ]
  },
  {
   "cell_type": "code",
   "execution_count": 18,
   "id": "8354cff0-0227-4881-a686-7fabd2d61226",
   "metadata": {},
   "outputs": [
    {
     "data": {
      "text/plain": [
       "[(np.float64(102.0), np.float64(540.0)),\n",
       " (np.float64(0.0), np.float64(359.4)),\n",
       " (np.float64(0.0), np.float64(200.1)),\n",
       " (np.float64(121.8), np.float64(247.0)),\n",
       " (np.float64(0.0), np.float64(32.2)),\n",
       " (np.float64(801.0), np.float64(1145.0)),\n",
       " (np.float64(594.0), np.float64(992.6)),\n",
       " (np.float64(1.0), np.float64(365.0))]"
      ]
     },
     "execution_count": 18,
     "metadata": {},
     "output_type": "execute_result"
    }
   ],
   "source": [
    "val_stats = concrete_data.describe()\n",
    "val_min = val_stats.loc['min']\n",
    "val_max = val_stats.loc['max']\n",
    "\n",
    "cement_boundries = []\n",
    "for i in range(0, len(val_min), 1):\n",
    "    tupple_val = (val_min[i], val_max[i])\n",
    "    cement_boundries.append(tupple_val)\n",
    "cement_boundries"
   ]
  },
  {
   "cell_type": "code",
   "execution_count": 57,
   "id": "5355a999-d32e-4f19-a1d6-290eec5bed8f",
   "metadata": {},
   "outputs": [],
   "source": [
    "penalty_input = 500\n",
    "\n",
    "target_strength = 35\n",
    "population_size = 25\n",
    "max_generations = 50\n",
    "p_crossover = 0.8\n",
    "p_mutation = 0.2\n",
    "elite_size = int((5/100) * population_size)\n",
    "\n",
    "initial_mutation_rate = 0.05\n",
    "max_mutation_rate = 0.3\n",
    "\n",
    "local_search_ind = 2\n",
    "local_search_maxiter = 20"
   ]
  },
  {
   "cell_type": "code",
   "execution_count": 58,
   "id": "96a77d0d-02ec-4816-aa5a-76cebadc1b69",
   "metadata": {},
   "outputs": [],
   "source": [
    "creator.create('FitnessMin', base.Fitness, weights=(-1.0,))\n",
    "creator.create('Individual', list, fitness = creator.FitnessMin)"
   ]
  },
  {
   "cell_type": "code",
   "execution_count": 59,
   "id": "29f7334c-2da7-4044-9de9-1e779b3fadbd",
   "metadata": {},
   "outputs": [],
   "source": [
    "def cost_per_kg_function():\n",
    "    cost_per_kg = {\n",
    "    'Cement': 0.15,\n",
    "    'BlastFurnaceSlag': 0.12,\n",
    "    'FlyAshComponent': 0.06,\n",
    "    'WaterComponent': 0.0005,\n",
    "    'SuperplasticizerComponent': 2.50,\n",
    "    'CoarseAggregateComponent': 0.03,\n",
    "    'FineAggregateComponent': 0.03,\n",
    "    'AgeInDays': 0\n",
    "    }\n",
    "    return cost_per_kg"
   ]
  },
  {
   "cell_type": "code",
   "execution_count": 60,
   "id": "f31eb11b-393f-430e-9381-7d13bac86b3c",
   "metadata": {},
   "outputs": [],
   "source": [
    "def fitness_function(individual):\n",
    "    \n",
    "    features = x_initial_scaled_dataframe.columns.tolist()\n",
    "    \n",
    "    cost = 0\n",
    "    cost_per_kg = cost_per_kg_function()\n",
    "    for i, feature in enumerate(features):\n",
    "        cost += individual[i] * cost_per_kg[feature]\n",
    "    total_cost = round(cost, 2)\n",
    "    \n",
    "    model = best_random_forest\n",
    "    individual_array = np.array(individual).reshape(1, -1)\n",
    "    individual_scaled = scaler.transform(individual_array)\n",
    "    pred_strength = model.predict(individual_array)[0]\n",
    "    \n",
    "    fitness_value = total_cost\n",
    "    if abs(float(pred_strength) - float(target_strength)) > 0.5:\n",
    "        fitness_value += penalty_input * abs(pred_strength - target_strength)\n",
    "\n",
    "    if fitness_value < 0:\n",
    "        print(f'Cost: {total_cost}')\n",
    "    return (fitness_value,)"
   ]
  },
  {
   "cell_type": "code",
   "execution_count": 61,
   "id": "257c6edb-9839-4ead-97ae-1777e70ae0c1",
   "metadata": {},
   "outputs": [],
   "source": [
    "cement_min, cement_max = cement_boundries[0]\n",
    "blastfurnaceslag_min, blastfurnaceslag_max = cement_boundries[1]\n",
    "flyash_min, flyash_max = cement_boundries[2]\n",
    "water_min, water_max = cement_boundries[3]\n",
    "superplasticizer_min, superplasticizer_max = cement_boundries[4]\n",
    "coarseaggregate_min, coarseaggregate_max = cement_boundries[5]\n",
    "fineaggregate_min, fineaggregate_max = cement_boundries[6]\n",
    "ageindays_min, ageindays_max = cement_boundries[7]\n",
    "\n",
    "toolbox = base.Toolbox()\n",
    "toolbox.register(\"cement\", random.uniform, cement_min, cement_max)\n",
    "toolbox.register(\"blastfurnaceslag\", random.uniform, blastfurnaceslag_min, blastfurnaceslag_max)\n",
    "toolbox.register(\"flyash\", random.uniform, flyash_min, flyash_max)\n",
    "toolbox.register(\"water\", random.uniform, water_min, water_max)\n",
    "toolbox.register(\"superplasticizer\", random.uniform, superplasticizer_min, superplasticizer_max)\n",
    "toolbox.register(\"coarseaggregate\", random.uniform, coarseaggregate_min, coarseaggregate_max)\n",
    "toolbox.register(\"fineaggregate\", random.uniform, fineaggregate_min, fineaggregate_max)\n",
    "toolbox.register(\"ageindays\", random.uniform, ageindays_min, ageindays_max)\n",
    "\n",
    "def create_individual():\n",
    "    return [\n",
    "        toolbox.cement(),\n",
    "        toolbox.blastfurnaceslag(),\n",
    "        toolbox.flyash(),\n",
    "        toolbox.water(),\n",
    "        toolbox.superplasticizer(),\n",
    "        toolbox.coarseaggregate(),\n",
    "        toolbox.fineaggregate(),\n",
    "        toolbox.ageindays()\n",
    "    ]\n"
   ]
  },
  {
   "cell_type": "code",
   "execution_count": 62,
   "id": "dc8de314",
   "metadata": {},
   "outputs": [],
   "source": [
    "def mutate_individual(individual, mutation_rate):\n",
    "    indpb = mutation_rate\n",
    "    if random.random()  < indpb:\n",
    "        individual[0] = random.uniform(cement_min, cement_max)\n",
    "    if random.random()  < indpb:\n",
    "        individual[1] = random.uniform(blastfurnaceslag_min, blastfurnaceslag_max)\n",
    "    if random.random()  < indpb:\n",
    "        individual[2] = random.uniform(flyash_min, flyash_max)\n",
    "    if random.random()  < indpb:\n",
    "        individual[3] = random.uniform(water_min, water_max)\n",
    "    if random.random()  < indpb:\n",
    "        individual[4] = random.uniform(superplasticizer_min, superplasticizer_max)\n",
    "    if random.random()  < indpb:\n",
    "        individual[5] = random.uniform(coarseaggregate_min, coarseaggregate_max)\n",
    "    if random.random()  < indpb:\n",
    "        individual[6] = random.uniform(fineaggregate_min, fineaggregate_max)\n",
    "    if random.random()  < indpb:\n",
    "        individual[7] = random.uniform(ageindays_min, ageindays_max)\n",
    "\n",
    "    return (individual, )"
   ]
  },
  {
   "cell_type": "code",
   "execution_count": 63,
   "id": "03faea0a-88d6-4914-a6aa-31bc45ef4b69",
   "metadata": {},
   "outputs": [],
   "source": [
    "toolbox.register('individual', tools.initIterate, creator.Individual, create_individual)\n",
    "toolbox.register('population', tools.initRepeat, list, toolbox.individual)\n",
    "toolbox.register('evaluate', fitness_function)\n",
    "toolbox.register('mate', tools.cxTwoPoint)\n",
    "toolbox.register('mutate', mutate_individual)\n",
    "toolbox.register('select', tools.selTournament, tournsize = 3)"
   ]
  },
  {
   "cell_type": "code",
   "execution_count": 64,
   "id": "0ff32b23-6558-457c-a3bc-f5e4a942b6f2",
   "metadata": {},
   "outputs": [],
   "source": [
    "def local_search(individual):\n",
    "    def objective_function(x):\n",
    "        return fitness_function(x)[0]\n",
    "\n",
    "    x0 = individual\n",
    "\n",
    "    res = minimize(objective_function,\n",
    "                  x0,\n",
    "                  method='L-BFGS-B',\n",
    "                  bounds=cement_boundries,\n",
    "                  options={\n",
    "                      'ftol': 1e-4,\n",
    "                      'maxiter': local_search_maxiter,\n",
    "                      'disp': False\n",
    "                  })\n",
    "    if res.fun < fitness_function(x0)[0]:\n",
    "        return res.x.tolist()\n",
    "    else:\n",
    "        return individual"
   ]
  },
  {
   "cell_type": "markdown",
   "id": "6c4527e1-a03a-4a48-80f8-7326860f2ac0",
   "metadata": {},
   "source": [
    "### **Visualization**"
   ]
  },
  {
   "cell_type": "code",
   "execution_count": null,
   "id": "f6fcffcf-4a12-46c1-98c5-2b61ea6ee8f6",
   "metadata": {},
   "outputs": [],
   "source": []
  },
  {
   "cell_type": "code",
   "execution_count": null,
   "id": "4dbbe1d3",
   "metadata": {},
   "outputs": [],
   "source": []
  },
  {
   "cell_type": "code",
   "execution_count": null,
   "id": "9cb264b0",
   "metadata": {},
   "outputs": [],
   "source": []
  },
  {
   "cell_type": "code",
   "execution_count": null,
   "id": "ceed6f4b",
   "metadata": {},
   "outputs": [],
   "source": []
  },
  {
   "cell_type": "code",
   "execution_count": null,
   "id": "385e57bd",
   "metadata": {},
   "outputs": [],
   "source": []
  },
  {
   "cell_type": "code",
   "execution_count": 65,
   "id": "e75c94c1-3dd4-4cc6-bf62-ad7d7b06d62a",
   "metadata": {},
   "outputs": [],
   "source": [
    "def run_memetic_ga():\n",
    "    \n",
    "    random.seed(42)\n",
    "    \n",
    "    population = toolbox.population(n = population_size)\n",
    "\n",
    "    fitness = map(toolbox.evaluate, population)\n",
    "    for ind, fit in zip(population, fitness):\n",
    "        ind.fitness.values = fit\n",
    "\n",
    "        \n",
    "    best_individual = tools.selBest(population, 1)[0]\n",
    "    best_fitness = best_individual.fitness.values[0]\n",
    "\n",
    "    logbook = tools.Logbook()\n",
    "    logbook.header = ['gen', 'nevals', 'best_fitness']\n",
    "\n",
    "    mutation_rate = 0.05\n",
    "    for gen in range(1, max_generations+1, 1):\n",
    "\n",
    "        offspring = toolbox.select(population, len(population) - elite_size)\n",
    "        offspring = list(map(toolbox.clone, offspring))\n",
    "\n",
    "        for child1, child2 in zip(offspring[::2], offspring[1::2]):\n",
    "            if random.random() < p_crossover:\n",
    "                toolbox.mate(child1, child2)\n",
    "                del child1.fitness.values\n",
    "                del child2.fitness.values\n",
    "\n",
    "        for mutant in offspring:\n",
    "            if not mutant.fitness.valid:\n",
    "                toolbox.mutate(mutant, mutation_rate)\n",
    "                del mutant.fitness.values\n",
    "\n",
    "        invalid_ind = [ind for ind in offspring if not ind.fitness.valid]\n",
    "        fitness = map(toolbox.evaluate, invalid_ind)\n",
    "        for ind, fit in zip(invalid_ind, fitness):\n",
    "            ind.fitness.values = fit\n",
    "\n",
    "        population += offspring\n",
    "\n",
    "        population = tools.selBest(population, population_size - elite_size)\n",
    "        top_individuals = tools.selBest(population, local_search_ind)\n",
    "        for i in range(local_search_ind):\n",
    "            # original = top_individuals[i].copy() \n",
    "            improved = local_search(top_individuals[i])\n",
    "            top_individuals[i] = improved\n",
    "            top_individuals[i].fitness.values = toolbox.evaluate(top_individuals[i])\n",
    "            if top_individuals[i].fitness.values[0] < best_fitness:\n",
    "                best_fitness = top_individuals[i].fitness.values[0]\n",
    "                best_individual = top_individuals[i].copy()\n",
    "\n",
    "        current_best = tools.selBest(population, 1)[0].fitness.values[0]\n",
    "        logbook.record(gen = gen, \n",
    "                       nevals = len(invalid_ind), \n",
    "                       best_fitness = current_best)\n",
    "        print(f'Generation: {gen}, Best Fitness: {current_best:.2f} ')\n",
    "\n",
    "    print('--- MEMETIC GA OPTIMIZATION for CONCRETE MIX ---\\n')\n",
    "    features = x_initial_scaled_dataframe.columns.tolist()\n",
    "    cost = 0\n",
    "    cost_per_kg = cost_per_kg_function()\n",
    "    for i, feature in enumerate(features):\n",
    "        cost += best_individual[i] * cost_per_kg[feature]\n",
    "    total_cost = round(cost, 2)\n",
    "    \n",
    "    model = best_random_forest\n",
    "    individual_array = np.array(best_individual).reshape(1, -1)\n",
    "    individual_scaled = scaler.transform(individual_array)\n",
    "    pred_strength = model.predict(individual_array)[0]\n",
    "\n",
    "    print(f'The raw material cost of the Concrete Mix with, {pred_strength:.4f}MPa is ${total_cost:.2f}per m\\u00B3')"
   ]
  },
  {
   "cell_type": "code",
   "execution_count": 66,
   "id": "3efe7fc2-a9c3-421b-b2cf-bb365ca31391",
   "metadata": {},
   "outputs": [
    {
     "name": "stdout",
     "output_type": "stream",
     "text": [
      "Generation: 1, Best Fitness: 9084.23 \n",
      "Generation: 2, Best Fitness: 9076.69 \n",
      "Generation: 3, Best Fitness: 9076.69 \n",
      "Generation: 4, Best Fitness: 9043.00 \n",
      "Generation: 5, Best Fitness: 9043.00 \n",
      "Generation: 6, Best Fitness: 9031.79 \n",
      "Generation: 7, Best Fitness: 9030.09 \n",
      "Generation: 8, Best Fitness: 9030.09 \n",
      "Generation: 9, Best Fitness: 9030.07 \n",
      "Generation: 10, Best Fitness: 9029.90 \n",
      "Generation: 11, Best Fitness: 9029.90 \n",
      "Generation: 12, Best Fitness: 9027.34 \n",
      "Generation: 13, Best Fitness: 9027.34 \n",
      "Generation: 14, Best Fitness: 9027.34 \n",
      "Generation: 15, Best Fitness: 9027.34 \n",
      "Generation: 16, Best Fitness: 9027.34 \n",
      "Generation: 17, Best Fitness: 9027.34 \n",
      "Generation: 18, Best Fitness: 9027.34 \n",
      "Generation: 19, Best Fitness: 9027.34 \n",
      "Generation: 20, Best Fitness: 9026.60 \n",
      "Generation: 21, Best Fitness: 9026.60 \n",
      "Generation: 22, Best Fitness: 9026.60 \n",
      "Generation: 23, Best Fitness: 9026.02 \n",
      "Generation: 24, Best Fitness: 9026.02 \n",
      "Generation: 25, Best Fitness: 9026.02 \n",
      "Generation: 26, Best Fitness: 9026.02 \n",
      "Generation: 27, Best Fitness: 9026.02 \n",
      "Generation: 28, Best Fitness: 9026.02 \n",
      "Generation: 29, Best Fitness: 9026.02 \n",
      "Generation: 30, Best Fitness: 9026.02 \n",
      "Generation: 31, Best Fitness: 9024.98 \n",
      "Generation: 32, Best Fitness: 9024.98 \n",
      "Generation: 33, Best Fitness: 9024.40 \n",
      "Generation: 34, Best Fitness: 9024.40 \n",
      "Generation: 35, Best Fitness: 9024.40 \n",
      "Generation: 36, Best Fitness: 9024.40 \n",
      "Generation: 37, Best Fitness: 9024.40 \n",
      "Generation: 38, Best Fitness: 9024.40 \n",
      "Generation: 39, Best Fitness: 9024.40 \n",
      "Generation: 40, Best Fitness: 9024.40 \n",
      "Generation: 41, Best Fitness: 9024.40 \n",
      "Generation: 42, Best Fitness: 9024.40 \n",
      "Generation: 43, Best Fitness: 9022.98 \n",
      "Generation: 44, Best Fitness: 9022.98 \n",
      "Generation: 45, Best Fitness: 9022.98 \n",
      "Generation: 46, Best Fitness: 9022.98 \n",
      "Generation: 47, Best Fitness: 9022.98 \n",
      "Generation: 48, Best Fitness: 9022.98 \n",
      "Generation: 49, Best Fitness: 9022.98 \n",
      "Generation: 50, Best Fitness: 9022.98 \n",
      "--- MEMETIC GA OPTIMIZATION for CONCRETE MIX ---\n",
      "\n",
      "The raw material cost of the Concrete Mix with, 52.9236MPa is $61.17per m³\n"
     ]
    }
   ],
   "source": [
    "if __name__ == '__main__':\n",
    "    run_memetic_ga()"
   ]
  },
  {
   "cell_type": "code",
   "execution_count": null,
   "id": "02ef4c50-2210-4964-9452-2d76dbf41ab0",
   "metadata": {},
   "outputs": [],
   "source": []
  },
  {
   "cell_type": "code",
   "execution_count": null,
   "id": "f79d5361-90d8-4197-b08d-3d3b9d3dd113",
   "metadata": {},
   "outputs": [],
   "source": []
  },
  {
   "cell_type": "code",
   "execution_count": null,
   "id": "155e8a8c-5dfc-4b55-9fa3-9aab9cef8b2b",
   "metadata": {},
   "outputs": [],
   "source": []
  },
  {
   "cell_type": "code",
   "execution_count": null,
   "id": "fe7f4578-9374-4a67-ade1-522f51d8aab1",
   "metadata": {},
   "outputs": [],
   "source": []
  },
  {
   "cell_type": "code",
   "execution_count": null,
   "id": "d2106b4b-f4da-46db-b019-9f302379e154",
   "metadata": {},
   "outputs": [],
   "source": []
  },
  {
   "cell_type": "code",
   "execution_count": 31,
   "id": "fc239662-37bb-43bd-9972-9d1e396ccd1f",
   "metadata": {},
   "outputs": [],
   "source": [
    "\n",
    "\n"
   ]
  },
  {
   "cell_type": "code",
   "execution_count": 26,
   "id": "725181e1-c963-482d-b965-fc9f58f5ca96",
   "metadata": {},
   "outputs": [],
   "source": [
    "# def deap_fitness_list(population):\n",
    "#     object_to_deap_individual = creator.Individual(population)\n",
    "#     for ind in object_to_deap_individual:\n",
    "#         ind.fitness.values = toolbox.evaluate(ind)\n",
    "#     return object_to_deap_individual"
   ]
  },
  {
   "cell_type": "code",
   "execution_count": 27,
   "id": "e7f785bb-227a-4d0e-b0cf-06a1364bd7bc",
   "metadata": {},
   "outputs": [],
   "source": [
    "# def local_search(ind):\n",
    "#     new_ind = ind[:]\n",
    "    \n",
    "#     new_ind[0] += 2\n",
    "#     new_ind[1] += 2\n",
    "#     new_ind[4] += 2\n",
    "\n",
    "#     # Ensure the values assigned to the new individuals are within the bounds.\n",
    "#     new_ind[0] = min(max(new_ind[0], cement_min), cement_max)\n",
    "#     new_ind[1] = min(max(new_ind[1], blast_furnace_slag_min), blast_furnace_slag_max)\n",
    "#     new_ind[2] = min(max(new_ind[4], superplasticizer_min), superplasticizer_max)\n",
    "\n",
    "#     new_ind_fitness = toolbox.evaluate(new_ind)[0]\n",
    "#     if (new_ind_fitness < ind.fitness.values[0]):\n",
    "#         ind[:] = new_ind\n",
    "#         return (ind, )"
   ]
  },
  {
   "cell_type": "code",
   "execution_count": null,
   "id": "856c729a-fbdc-4d3e-a437-da8f8ff892e9",
   "metadata": {},
   "outputs": [],
   "source": []
  },
  {
   "cell_type": "code",
   "execution_count": 28,
   "id": "3c79cfe7-8c6f-45f0-bc08-7cad8587c20b",
   "metadata": {},
   "outputs": [],
   "source": [
    "def main():\n",
    "\n",
    "\n",
    "    avg_val_list = []\n",
    "    fitness_val_list = []\n",
    "    best_fitness_ever = math.inf\n",
    "    mutation_rate = initial_mutation_rate\n",
    "    no_improvement_limit = 10\n",
    "    i = 0\n",
    "    for gen in range(1, max_generations+1, 1):\n",
    "    \n",
    "\n",
    "\n",
    "        population[:] = offspring\n",
    "\n",
    "        gen_best = min(population,\n",
    "                       key=lambda ind: ind.fitness.values[0])\n",
    "        gen_best_fitness = gen_best.fitness.values[0]\n",
    "        if (gen_best_fitness < best_fitness_ever):\n",
    "            best_fitness_ever = gen_best_fitness\n",
    "            no_improvement = 0\n",
    "            \n",
    "            fitness_val_list.append(gen_best_fitness)\n",
    "            if (i%10 == 0):\n",
    "                avg_val_list.append(fitness_val_list[-1])\n",
    "                if (len(avg_val_list) == 2 ):\n",
    "                    val_diff = (avg_val_list[0] - avg_val_list[1])\n",
    "                    if val_diff <= 0.001:\n",
    "                        break\n",
    "                    else:\n",
    "                        print(f'\\nSolution Convergence tolerance (0.001): {val_diff:.2f}\\n')\n",
    "                        avg_val_list = []\n",
    "                        fitness_val_list = []\n",
    "        else:\n",
    "            no_improvement += 1\n",
    "        i = i + 1    \n",
    "        if (no_improvement >= no_improvement_limit):\n",
    "            mutation_rate *= 1.5\n",
    "            if mutation_rate > max_mutation_rate:\n",
    "                mutation_rate = max_mutation_rate\n",
    "            print(f'No improvement in Fitness Value.',\n",
    "                  f'Mutation rate increased to {mutation_rate:.2f}')\n",
    "            no_improvement = 0\n",
    "\n",
    "    print('\\n---###--- EVOLUTION COMPLETE ---###---')\n",
    "    print(f'Best Fitness (Cost + Penalties): {fitness_val_list[-1]:.4f}')\n",
    "\n",
    "    features = x_initial_scaled_dataframe.columns.tolist()\n",
    "    cost = 0\n",
    "    cost_per_kg = cost_per_kg_function()\n",
    "    for i, feature in enumerate(features):\n",
    "        cost += best_all_islands[i] * cost_per_kg[feature]\n",
    "    total_cost = round(cost, 2)\n",
    "    \n",
    "    model = best_random_forest\n",
    "    individual_array = np.array(best_all_islands).reshape(1, -1)\n",
    "    individual_scaled = scaler.transform(individual_array)\n",
    "    pred_strength = model.predict(individual_array)[0]\n",
    "\n",
    "    print(f'The raw material cost of the Concrete Mix with, {pred_strength:.4f}MPa is ${total_cost:.2f}m\\u00B3')\n",
    "    return gen_best_fitness"
   ]
  },
  {
   "cell_type": "code",
   "execution_count": null,
   "id": "9cdc5df2-9b5f-4376-bbf0-03d9528ee7c2",
   "metadata": {},
   "outputs": [],
   "source": [
    "if __name__ == '__main__':\n",
    "    solution = main()"
   ]
  },
  {
   "cell_type": "code",
   "execution_count": null,
   "id": "992eb36c-24e2-47d8-a7d7-4cc9d9cf38a3",
   "metadata": {},
   "outputs": [],
   "source": []
  },
  {
   "cell_type": "code",
   "execution_count": null,
   "id": "de668dfa-66b7-4fe8-85e5-1cd3a3506866",
   "metadata": {},
   "outputs": [],
   "source": []
  },
  {
   "cell_type": "code",
   "execution_count": null,
   "id": "2f171b50-a4f2-41ef-b60b-435063ab5225",
   "metadata": {},
   "outputs": [],
   "source": [
    "\n",
    "    # # Apply the LOCAL SEARCH\n",
    "    # sorted_offspring = sorted(offspring, \n",
    "    #                           key=lambda ind: ind.fitness.values[0])\n",
    "    # top_ind = int(0.2 * len(sorted_offspring))\n",
    "    # for ind in sorted_offspring[:top_ind]:\n",
    "    #     toolbox.register('local_search', local_search)\n",
    "    #     toolbox.local_search(ind)\n",
    "    #     del toolbox.local_search\n",
    "        \n",
    "    \n",
    "    # return population"
   ]
  },
  {
   "cell_type": "code",
   "execution_count": null,
   "id": "e23c2c26-4e65-4ab6-bb77-f70dfe2cbc8e",
   "metadata": {},
   "outputs": [],
   "source": []
  },
  {
   "cell_type": "code",
   "execution_count": null,
   "id": "484ab22c-56a8-45a3-b50b-d60a7004117b",
   "metadata": {},
   "outputs": [],
   "source": []
  },
  {
   "cell_type": "code",
   "execution_count": null,
   "id": "eb992e14-2a9b-40c3-959a-76dde3671056",
   "metadata": {},
   "outputs": [],
   "source": []
  },
  {
   "cell_type": "code",
   "execution_count": null,
   "id": "d8c34068-3c94-4008-9e2e-4542af05ec73",
   "metadata": {},
   "outputs": [],
   "source": []
  },
  {
   "cell_type": "code",
   "execution_count": null,
   "id": "927a5d6e-6be0-4047-b57d-5e5ed61a1d7a",
   "metadata": {},
   "outputs": [],
   "source": []
  }
 ],
 "metadata": {
  "kernelspec": {
   "display_name": "Python 3",
   "language": "python",
   "name": "python3"
  },
  "language_info": {
   "codemirror_mode": {
    "name": "ipython",
    "version": 3
   },
   "file_extension": ".py",
   "mimetype": "text/x-python",
   "name": "python",
   "nbconvert_exporter": "python",
   "pygments_lexer": "ipython3",
   "version": "3.11.2"
  }
 },
 "nbformat": 4,
 "nbformat_minor": 5
}
